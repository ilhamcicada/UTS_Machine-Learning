{
  "nbformat": 4,
  "nbformat_minor": 0,
  "metadata": {
    "colab": {
      "provenance": []
    },
    "kernelspec": {
      "name": "python3",
      "display_name": "Python 3"
    },
    "language_info": {
      "name": "python"
    }
  },
  "cells": [
    {
      "cell_type": "markdown",
      "source": [
        "**UTS MACHINE LEARNING**\n",
        "\n",
        "**WINE QUALITY**\n",
        "\n",
        "**NAMA**: Ilham Akbar\n",
        "\n",
        "**NIM**: 4112322005\n",
        "\n",
        "**DATE**: 16 April 2025"
      ],
      "metadata": {
        "id": "gq6d2QZouq6R"
      }
    },
    {
      "cell_type": "code",
      "source": [
        "# 1. Import library yang diperlukan\n",
        "import pandas as pd\n",
        "import numpy as np\n",
        "from sklearn.model_selection import train_test_split, RandomizedSearchCV\n",
        "from sklearn.preprocessing import StandardScaler, LabelEncoder\n",
        "from sklearn.metrics import classification_report\n",
        "from sklearn.feature_selection import SelectFromModel\n",
        "import matplotlib.pyplot as plt\n",
        "import seaborn as sns\n",
        "from xgboost import XGBClassifier\n",
        "from scipy.stats import randint, uniform\n",
        "from sklearn.metrics import confusion_matrix, ConfusionMatrixDisplay"
      ],
      "metadata": {
        "id": "9K1FpwGuqAal"
      },
      "execution_count": 13,
      "outputs": []
    },
    {
      "cell_type": "markdown",
      "source": [
        "Langkah pertama adalah mengimpor semua library yang akan digunakan. Di sini, kita memakai pustaka populer untuk manipulasi data (pandas, numpy), visualisasi (matplotlib, seaborn), preprocessing dan evaluasi (sklearn), serta model machine learning XGBoost (xgboost). Kita juga gunakan scipy.stats untuk keperluan hyperparameter tuning."
      ],
      "metadata": {
        "id": "YHrVPA0YurY8"
      }
    },
    {
      "cell_type": "code",
      "source": [
        "# 2. Load data training dan testing\n",
        "train_df = pd.read_excel(\"/content/data_training.xlsx\")\n",
        "test_df = pd.read_excel(\"/content/data_testing.xlsx\")"
      ],
      "metadata": {
        "id": "B74N4d_IqAX8"
      },
      "execution_count": 2,
      "outputs": []
    },
    {
      "cell_type": "markdown",
      "source": [
        "Dataset training dan testing dibaca dari file Excel menggunakan pandas. Dataset training berisi fitur dan target (quality), sedangkan dataset testing hanya berisi fitur dan id."
      ],
      "metadata": {
        "id": "KFSbVJjCusXb"
      }
    },
    {
      "cell_type": "code",
      "source": [
        "# 3. Cek data dan info\n",
        "print(\"Training Data Info:\")\n",
        "print(train_df.info())\n",
        "print(train_df.head())\n",
        "\n",
        "print(\"\\nTesting Data Info:\")\n",
        "print(test_df.info())\n",
        "print(test_df.head())"
      ],
      "metadata": {
        "colab": {
          "base_uri": "https://localhost:8080/",
          "height": 0
        },
        "id": "shX3r997qAVL",
        "outputId": "26704391-5bf7-42e6-9bd3-6c8edc349d22"
      },
      "execution_count": 3,
      "outputs": [
        {
          "output_type": "stream",
          "name": "stdout",
          "text": [
            "Training Data Info:\n",
            "<class 'pandas.core.frame.DataFrame'>\n",
            "RangeIndex: 857 entries, 0 to 856\n",
            "Data columns (total 13 columns):\n",
            " #   Column                Non-Null Count  Dtype  \n",
            "---  ------                --------------  -----  \n",
            " 0   id                    857 non-null    int64  \n",
            " 1   fixed acidity         857 non-null    float64\n",
            " 2   volatile acidity      857 non-null    float64\n",
            " 3   citric acid           857 non-null    float64\n",
            " 4   residual sugar        857 non-null    float64\n",
            " 5   chlorides             857 non-null    float64\n",
            " 6   free sulfur dioxide   857 non-null    float64\n",
            " 7   total sulfur dioxide  857 non-null    float64\n",
            " 8   density               857 non-null    float64\n",
            " 9   pH                    857 non-null    float64\n",
            " 10  sulphates             857 non-null    float64\n",
            " 11  alcohol               857 non-null    float64\n",
            " 12  quality               857 non-null    int64  \n",
            "dtypes: float64(11), int64(2)\n",
            "memory usage: 87.2 KB\n",
            "None\n",
            "     id  fixed acidity  volatile acidity  citric acid  residual sugar  \\\n",
            "0  1366            7.3             0.740         0.08             1.7   \n",
            "1   103            8.1             0.575         0.22             2.1   \n",
            "2   942           10.1             0.430         0.40             2.6   \n",
            "3   811           12.9             0.500         0.55             2.8   \n",
            "4   918            8.4             0.360         0.32             2.2   \n",
            "\n",
            "   chlorides  free sulfur dioxide  total sulfur dioxide  density    pH  \\\n",
            "0      0.094                 10.0                  45.0  0.99576  3.24   \n",
            "1      0.077                 12.0                  65.0  0.99670  3.29   \n",
            "2      0.092                 13.0                  52.0  0.99834  3.22   \n",
            "3      0.072                  7.0                  24.0  1.00012  3.09   \n",
            "4      0.081                 32.0                  79.0  0.99640  3.30   \n",
            "\n",
            "   sulphates  alcohol  quality  \n",
            "0       0.50      9.8        5  \n",
            "1       0.51      9.2        5  \n",
            "2       0.64     10.0        7  \n",
            "3       0.68     10.9        6  \n",
            "4       0.72     11.0        6  \n",
            "\n",
            "Testing Data Info:\n",
            "<class 'pandas.core.frame.DataFrame'>\n",
            "RangeIndex: 286 entries, 0 to 285\n",
            "Data columns (total 13 columns):\n",
            " #   Column                Non-Null Count  Dtype  \n",
            "---  ------                --------------  -----  \n",
            " 0   id                    286 non-null    int64  \n",
            " 1   fixed acidity         286 non-null    float64\n",
            " 2   volatile acidity      286 non-null    float64\n",
            " 3   citric acid           286 non-null    float64\n",
            " 4   residual sugar        286 non-null    float64\n",
            " 5   chlorides             286 non-null    float64\n",
            " 6   free sulfur dioxide   286 non-null    float64\n",
            " 7   total sulfur dioxide  286 non-null    int64  \n",
            " 8   density               286 non-null    float64\n",
            " 9   pH                    286 non-null    float64\n",
            " 10  sulphates             286 non-null    float64\n",
            " 11  alcohol               286 non-null    float64\n",
            " 12  quality               286 non-null    int64  \n",
            "dtypes: float64(10), int64(3)\n",
            "memory usage: 29.2 KB\n",
            "None\n",
            "     id  fixed acidity  volatile acidity  citric acid  residual sugar  \\\n",
            "0   222            6.8              0.61         0.04             1.5   \n",
            "1  1514            6.9              0.84         0.21             4.1   \n",
            "2   417            7.0              0.58         0.12             1.9   \n",
            "3   754            7.8              0.48         0.68             1.7   \n",
            "4   516           12.5              0.60         0.49             4.3   \n",
            "\n",
            "   chlorides  free sulfur dioxide  total sulfur dioxide  density    pH  \\\n",
            "0      0.057                  5.0                    10  0.99525  3.42   \n",
            "1      0.074                 16.0                    65  0.99842  3.53   \n",
            "2      0.091                 34.0                   124  0.99560  3.44   \n",
            "3      0.415                 14.0                    32  0.99656  3.09   \n",
            "4      0.100                  5.0                    14  1.00100  3.25   \n",
            "\n",
            "   sulphates    alcohol  quality  \n",
            "0       0.60   9.500000        5  \n",
            "1       0.72   9.233333        6  \n",
            "2       0.48  10.500000        5  \n",
            "3       1.06   9.100000        5  \n",
            "4       0.74  11.900000        5  \n"
          ]
        }
      ]
    },
    {
      "cell_type": "markdown",
      "source": [
        "Kita melihat struktur data, tipe data setiap kolom, dan beberapa baris awal. Ini penting untuk memastikan data terbaca dengan benar dan memahami bentuk umum data sebelum diproses.\n",
        "\n",
        "Data training berisi 857 baris dan 13 kolom, termasuk id dan quality.\n",
        "\n",
        "Data testing memiliki 286 baris dan juga 13 kolom, tapi tidak seharusnya ada quality. Ini perlu dikonfirmasi (mungkin dummy atau placeholder)."
      ],
      "metadata": {
        "id": "6z-hQcnlut-V"
      }
    },
    {
      "cell_type": "code",
      "source": [
        "# 4. Cek missing values\n",
        "print(\"\\nMissing values in training:\", train_df.isnull().sum().sum())\n",
        "print(\"Missing values in testing:\", test_df.isnull().sum().sum())"
      ],
      "metadata": {
        "colab": {
          "base_uri": "https://localhost:8080/",
          "height": 0
        },
        "id": "8DO3rENaqARc",
        "outputId": "bfb0d889-00ad-4b63-c540-04110ff2b613"
      },
      "execution_count": 4,
      "outputs": [
        {
          "output_type": "stream",
          "name": "stdout",
          "text": [
            "\n",
            "Missing values in training: 0\n",
            "Missing values in testing: 0\n"
          ]
        }
      ]
    },
    {
      "cell_type": "markdown",
      "source": [
        "Kita memeriksa apakah terdapat nilai yang hilang (missing values) di dataset. Jika ada, perlu dilakukan penanganan seperti imputasi atau penghapusan data.\n",
        "\n",
        "Di kasus ini, tidak ditemukan nilai kosong, sehingga data dapat langsung digunakan tanpa proses imputasi."
      ],
      "metadata": {
        "id": "HduSP57Quujn"
      }
    },
    {
      "cell_type": "code",
      "source": [
        "# 5. Pisahkan fitur dan target\n",
        "X = train_df.drop(['quality', 'id'], axis=1)\n",
        "y = train_df['quality']\n",
        "X_test = test_df.drop(['id', 'quality'], axis=1)\n",
        "test_id = test_df['id']\n",
        "\n",
        "# Encode target\n",
        "encoder = LabelEncoder()\n",
        "y = encoder.fit_transform(y)"
      ],
      "metadata": {
        "id": "pvrBrhMeqAOm"
      },
      "execution_count": 5,
      "outputs": []
    },
    {
      "cell_type": "markdown",
      "source": [
        "Kita memisahkan kolom fitur (X) dan target (y) dari data training. Kolom id juga dipisahkan karena bukan fitur input.\n",
        "\n",
        "Dari data testing, kita ambil id untuk nanti digunakan di hasil prediksi."
      ],
      "metadata": {
        "id": "sy5LnB82uvPl"
      }
    },
    {
      "cell_type": "code",
      "source": [
        "# 6. Scaling fitur\n",
        "scaler = StandardScaler()\n",
        "X_scaled = scaler.fit_transform(X)\n",
        "X_test_scaled = scaler.transform(X_test)"
      ],
      "metadata": {
        "id": "znAKEvzKqALo"
      },
      "execution_count": 6,
      "outputs": []
    },
    {
      "cell_type": "markdown",
      "source": [
        "Target quality dikodekan menjadi angka 0, 1, ..., n dengan LabelEncoder. Kemudian, kita menstandardisasi fitur agar memiliki distribusi normal (mean = 0, std = 1), yang membantu meningkatkan performa model.\n",
        "\n",
        "LabelEncoder digunakan untuk mengubah label kualitas menjadi bentuk numerik yang bisa diproses model.\n",
        "\n",
        "StandardScaler digunakan agar setiap fitur memiliki skala yang seragam (mean=0, std=1), penting untuk algoritma yang sensitif terhadap skala."
      ],
      "metadata": {
        "id": "Ac-IPYCkuv62"
      }
    },
    {
      "cell_type": "code",
      "source": [
        "# 7. Split data untuk validasi\n",
        "X_train, X_val, y_train, y_val = train_test_split(\n",
        "    X_scaled, y, test_size=0.2, stratify=y, random_state=42\n",
        ")"
      ],
      "metadata": {
        "id": "uSu4EmPcqAIZ"
      },
      "execution_count": 7,
      "outputs": []
    },
    {
      "cell_type": "markdown",
      "source": [
        "Data dibagi menjadi 80% untuk pelatihan dan 20% untuk validasi, sambil mempertahankan distribusi label yang seimbang dengan stratify."
      ],
      "metadata": {
        "id": "0vll41zquwlL"
      }
    },
    {
      "cell_type": "code",
      "source": [
        "# 8. Feature Selection dengan XGBoost\n",
        "selector_model = XGBClassifier(random_state=42, use_label_encoder=False, eval_metric='mlogloss')\n",
        "selector_model.fit(X_train, y_train)\n",
        "\n",
        "# Pilih fitur penting (threshold = 'median' memilih setengah fitur paling penting)\n",
        "selector = SelectFromModel(selector_model, prefit=True, threshold='median')\n",
        "X_train_selected = selector.transform(X_train)\n",
        "X_val_selected = selector.transform(X_val)\n",
        "X_test_selected = selector.transform(X_test_scaled)"
      ],
      "metadata": {
        "colab": {
          "base_uri": "https://localhost:8080/",
          "height": 0
        },
        "id": "joI9Wdf6qAEm",
        "outputId": "ea10513d-69db-43b6-bc8e-a6f9478a2a4d"
      },
      "execution_count": 8,
      "outputs": [
        {
          "output_type": "stream",
          "name": "stderr",
          "text": [
            "/usr/local/lib/python3.11/dist-packages/xgboost/core.py:158: UserWarning: [13:03:25] WARNING: /workspace/src/learner.cc:740: \n",
            "Parameters: { \"use_label_encoder\" } are not used.\n",
            "\n",
            "  warnings.warn(smsg, UserWarning)\n"
          ]
        }
      ]
    },
    {
      "cell_type": "markdown",
      "source": [
        "XGBoost digunakan untuk mengidentifikasi fitur-fitur paling penting. Fitur yang memiliki kontribusi di bawah median akan dibuang.\n",
        "\n",
        "Ini membantu menyederhanakan model, mengurangi overfitting, dan mempercepat pelatihan."
      ],
      "metadata": {
        "id": "YNN3r94puxfl"
      }
    },
    {
      "cell_type": "code",
      "execution_count": 9,
      "metadata": {
        "id": "ROhtRuA6cfEZ",
        "colab": {
          "base_uri": "https://localhost:8080/",
          "height": 253
        },
        "outputId": "af420cc7-f379-4e24-9e44-cf3bcf5fbffc"
      },
      "outputs": [
        {
          "output_type": "stream",
          "name": "stdout",
          "text": [
            "Fitting 5 folds for each of 50 candidates, totalling 250 fits\n"
          ]
        },
        {
          "output_type": "stream",
          "name": "stderr",
          "text": [
            "/usr/local/lib/python3.11/dist-packages/xgboost/core.py:158: UserWarning: [13:04:41] WARNING: /workspace/src/learner.cc:740: \n",
            "Parameters: { \"use_label_encoder\" } are not used.\n",
            "\n",
            "  warnings.warn(smsg, UserWarning)\n"
          ]
        },
        {
          "output_type": "execute_result",
          "data": {
            "text/plain": [
              "RandomizedSearchCV(cv=5,\n",
              "                   estimator=XGBClassifier(base_score=None, booster=None,\n",
              "                                           callbacks=None,\n",
              "                                           colsample_bylevel=None,\n",
              "                                           colsample_bynode=None,\n",
              "                                           colsample_bytree=None, device=None,\n",
              "                                           early_stopping_rounds=None,\n",
              "                                           enable_categorical=False,\n",
              "                                           eval_metric='mlogloss',\n",
              "                                           feature_types=None, gamma=None,\n",
              "                                           grow_policy=None,\n",
              "                                           importance_type=None,\n",
              "                                           interaction_constraints=None,\n",
              "                                           learnin...\n",
              "                                        'learning_rate': <scipy.stats._distn_infrastructure.rv_continuous_frozen object at 0x7fdfb544f5d0>,\n",
              "                                        'max_depth': <scipy.stats._distn_infrastructure.rv_discrete_frozen object at 0x7fdfb53ff9d0>,\n",
              "                                        'n_estimators': <scipy.stats._distn_infrastructure.rv_discrete_frozen object at 0x7fe0221983d0>,\n",
              "                                        'subsample': <scipy.stats._distn_infrastructure.rv_continuous_frozen object at 0x7fdfb5124a10>},\n",
              "                   random_state=42, scoring='f1_macro', verbose=1)"
            ],
            "text/html": [
              "<style>#sk-container-id-1 {\n",
              "  /* Definition of color scheme common for light and dark mode */\n",
              "  --sklearn-color-text: #000;\n",
              "  --sklearn-color-text-muted: #666;\n",
              "  --sklearn-color-line: gray;\n",
              "  /* Definition of color scheme for unfitted estimators */\n",
              "  --sklearn-color-unfitted-level-0: #fff5e6;\n",
              "  --sklearn-color-unfitted-level-1: #f6e4d2;\n",
              "  --sklearn-color-unfitted-level-2: #ffe0b3;\n",
              "  --sklearn-color-unfitted-level-3: chocolate;\n",
              "  /* Definition of color scheme for fitted estimators */\n",
              "  --sklearn-color-fitted-level-0: #f0f8ff;\n",
              "  --sklearn-color-fitted-level-1: #d4ebff;\n",
              "  --sklearn-color-fitted-level-2: #b3dbfd;\n",
              "  --sklearn-color-fitted-level-3: cornflowerblue;\n",
              "\n",
              "  /* Specific color for light theme */\n",
              "  --sklearn-color-text-on-default-background: var(--sg-text-color, var(--theme-code-foreground, var(--jp-content-font-color1, black)));\n",
              "  --sklearn-color-background: var(--sg-background-color, var(--theme-background, var(--jp-layout-color0, white)));\n",
              "  --sklearn-color-border-box: var(--sg-text-color, var(--theme-code-foreground, var(--jp-content-font-color1, black)));\n",
              "  --sklearn-color-icon: #696969;\n",
              "\n",
              "  @media (prefers-color-scheme: dark) {\n",
              "    /* Redefinition of color scheme for dark theme */\n",
              "    --sklearn-color-text-on-default-background: var(--sg-text-color, var(--theme-code-foreground, var(--jp-content-font-color1, white)));\n",
              "    --sklearn-color-background: var(--sg-background-color, var(--theme-background, var(--jp-layout-color0, #111)));\n",
              "    --sklearn-color-border-box: var(--sg-text-color, var(--theme-code-foreground, var(--jp-content-font-color1, white)));\n",
              "    --sklearn-color-icon: #878787;\n",
              "  }\n",
              "}\n",
              "\n",
              "#sk-container-id-1 {\n",
              "  color: var(--sklearn-color-text);\n",
              "}\n",
              "\n",
              "#sk-container-id-1 pre {\n",
              "  padding: 0;\n",
              "}\n",
              "\n",
              "#sk-container-id-1 input.sk-hidden--visually {\n",
              "  border: 0;\n",
              "  clip: rect(1px 1px 1px 1px);\n",
              "  clip: rect(1px, 1px, 1px, 1px);\n",
              "  height: 1px;\n",
              "  margin: -1px;\n",
              "  overflow: hidden;\n",
              "  padding: 0;\n",
              "  position: absolute;\n",
              "  width: 1px;\n",
              "}\n",
              "\n",
              "#sk-container-id-1 div.sk-dashed-wrapped {\n",
              "  border: 1px dashed var(--sklearn-color-line);\n",
              "  margin: 0 0.4em 0.5em 0.4em;\n",
              "  box-sizing: border-box;\n",
              "  padding-bottom: 0.4em;\n",
              "  background-color: var(--sklearn-color-background);\n",
              "}\n",
              "\n",
              "#sk-container-id-1 div.sk-container {\n",
              "  /* jupyter's `normalize.less` sets `[hidden] { display: none; }`\n",
              "     but bootstrap.min.css set `[hidden] { display: none !important; }`\n",
              "     so we also need the `!important` here to be able to override the\n",
              "     default hidden behavior on the sphinx rendered scikit-learn.org.\n",
              "     See: https://github.com/scikit-learn/scikit-learn/issues/21755 */\n",
              "  display: inline-block !important;\n",
              "  position: relative;\n",
              "}\n",
              "\n",
              "#sk-container-id-1 div.sk-text-repr-fallback {\n",
              "  display: none;\n",
              "}\n",
              "\n",
              "div.sk-parallel-item,\n",
              "div.sk-serial,\n",
              "div.sk-item {\n",
              "  /* draw centered vertical line to link estimators */\n",
              "  background-image: linear-gradient(var(--sklearn-color-text-on-default-background), var(--sklearn-color-text-on-default-background));\n",
              "  background-size: 2px 100%;\n",
              "  background-repeat: no-repeat;\n",
              "  background-position: center center;\n",
              "}\n",
              "\n",
              "/* Parallel-specific style estimator block */\n",
              "\n",
              "#sk-container-id-1 div.sk-parallel-item::after {\n",
              "  content: \"\";\n",
              "  width: 100%;\n",
              "  border-bottom: 2px solid var(--sklearn-color-text-on-default-background);\n",
              "  flex-grow: 1;\n",
              "}\n",
              "\n",
              "#sk-container-id-1 div.sk-parallel {\n",
              "  display: flex;\n",
              "  align-items: stretch;\n",
              "  justify-content: center;\n",
              "  background-color: var(--sklearn-color-background);\n",
              "  position: relative;\n",
              "}\n",
              "\n",
              "#sk-container-id-1 div.sk-parallel-item {\n",
              "  display: flex;\n",
              "  flex-direction: column;\n",
              "}\n",
              "\n",
              "#sk-container-id-1 div.sk-parallel-item:first-child::after {\n",
              "  align-self: flex-end;\n",
              "  width: 50%;\n",
              "}\n",
              "\n",
              "#sk-container-id-1 div.sk-parallel-item:last-child::after {\n",
              "  align-self: flex-start;\n",
              "  width: 50%;\n",
              "}\n",
              "\n",
              "#sk-container-id-1 div.sk-parallel-item:only-child::after {\n",
              "  width: 0;\n",
              "}\n",
              "\n",
              "/* Serial-specific style estimator block */\n",
              "\n",
              "#sk-container-id-1 div.sk-serial {\n",
              "  display: flex;\n",
              "  flex-direction: column;\n",
              "  align-items: center;\n",
              "  background-color: var(--sklearn-color-background);\n",
              "  padding-right: 1em;\n",
              "  padding-left: 1em;\n",
              "}\n",
              "\n",
              "\n",
              "/* Toggleable style: style used for estimator/Pipeline/ColumnTransformer box that is\n",
              "clickable and can be expanded/collapsed.\n",
              "- Pipeline and ColumnTransformer use this feature and define the default style\n",
              "- Estimators will overwrite some part of the style using the `sk-estimator` class\n",
              "*/\n",
              "\n",
              "/* Pipeline and ColumnTransformer style (default) */\n",
              "\n",
              "#sk-container-id-1 div.sk-toggleable {\n",
              "  /* Default theme specific background. It is overwritten whether we have a\n",
              "  specific estimator or a Pipeline/ColumnTransformer */\n",
              "  background-color: var(--sklearn-color-background);\n",
              "}\n",
              "\n",
              "/* Toggleable label */\n",
              "#sk-container-id-1 label.sk-toggleable__label {\n",
              "  cursor: pointer;\n",
              "  display: flex;\n",
              "  width: 100%;\n",
              "  margin-bottom: 0;\n",
              "  padding: 0.5em;\n",
              "  box-sizing: border-box;\n",
              "  text-align: center;\n",
              "  align-items: start;\n",
              "  justify-content: space-between;\n",
              "  gap: 0.5em;\n",
              "}\n",
              "\n",
              "#sk-container-id-1 label.sk-toggleable__label .caption {\n",
              "  font-size: 0.6rem;\n",
              "  font-weight: lighter;\n",
              "  color: var(--sklearn-color-text-muted);\n",
              "}\n",
              "\n",
              "#sk-container-id-1 label.sk-toggleable__label-arrow:before {\n",
              "  /* Arrow on the left of the label */\n",
              "  content: \"▸\";\n",
              "  float: left;\n",
              "  margin-right: 0.25em;\n",
              "  color: var(--sklearn-color-icon);\n",
              "}\n",
              "\n",
              "#sk-container-id-1 label.sk-toggleable__label-arrow:hover:before {\n",
              "  color: var(--sklearn-color-text);\n",
              "}\n",
              "\n",
              "/* Toggleable content - dropdown */\n",
              "\n",
              "#sk-container-id-1 div.sk-toggleable__content {\n",
              "  max-height: 0;\n",
              "  max-width: 0;\n",
              "  overflow: hidden;\n",
              "  text-align: left;\n",
              "  /* unfitted */\n",
              "  background-color: var(--sklearn-color-unfitted-level-0);\n",
              "}\n",
              "\n",
              "#sk-container-id-1 div.sk-toggleable__content.fitted {\n",
              "  /* fitted */\n",
              "  background-color: var(--sklearn-color-fitted-level-0);\n",
              "}\n",
              "\n",
              "#sk-container-id-1 div.sk-toggleable__content pre {\n",
              "  margin: 0.2em;\n",
              "  border-radius: 0.25em;\n",
              "  color: var(--sklearn-color-text);\n",
              "  /* unfitted */\n",
              "  background-color: var(--sklearn-color-unfitted-level-0);\n",
              "}\n",
              "\n",
              "#sk-container-id-1 div.sk-toggleable__content.fitted pre {\n",
              "  /* unfitted */\n",
              "  background-color: var(--sklearn-color-fitted-level-0);\n",
              "}\n",
              "\n",
              "#sk-container-id-1 input.sk-toggleable__control:checked~div.sk-toggleable__content {\n",
              "  /* Expand drop-down */\n",
              "  max-height: 200px;\n",
              "  max-width: 100%;\n",
              "  overflow: auto;\n",
              "}\n",
              "\n",
              "#sk-container-id-1 input.sk-toggleable__control:checked~label.sk-toggleable__label-arrow:before {\n",
              "  content: \"▾\";\n",
              "}\n",
              "\n",
              "/* Pipeline/ColumnTransformer-specific style */\n",
              "\n",
              "#sk-container-id-1 div.sk-label input.sk-toggleable__control:checked~label.sk-toggleable__label {\n",
              "  color: var(--sklearn-color-text);\n",
              "  background-color: var(--sklearn-color-unfitted-level-2);\n",
              "}\n",
              "\n",
              "#sk-container-id-1 div.sk-label.fitted input.sk-toggleable__control:checked~label.sk-toggleable__label {\n",
              "  background-color: var(--sklearn-color-fitted-level-2);\n",
              "}\n",
              "\n",
              "/* Estimator-specific style */\n",
              "\n",
              "/* Colorize estimator box */\n",
              "#sk-container-id-1 div.sk-estimator input.sk-toggleable__control:checked~label.sk-toggleable__label {\n",
              "  /* unfitted */\n",
              "  background-color: var(--sklearn-color-unfitted-level-2);\n",
              "}\n",
              "\n",
              "#sk-container-id-1 div.sk-estimator.fitted input.sk-toggleable__control:checked~label.sk-toggleable__label {\n",
              "  /* fitted */\n",
              "  background-color: var(--sklearn-color-fitted-level-2);\n",
              "}\n",
              "\n",
              "#sk-container-id-1 div.sk-label label.sk-toggleable__label,\n",
              "#sk-container-id-1 div.sk-label label {\n",
              "  /* The background is the default theme color */\n",
              "  color: var(--sklearn-color-text-on-default-background);\n",
              "}\n",
              "\n",
              "/* On hover, darken the color of the background */\n",
              "#sk-container-id-1 div.sk-label:hover label.sk-toggleable__label {\n",
              "  color: var(--sklearn-color-text);\n",
              "  background-color: var(--sklearn-color-unfitted-level-2);\n",
              "}\n",
              "\n",
              "/* Label box, darken color on hover, fitted */\n",
              "#sk-container-id-1 div.sk-label.fitted:hover label.sk-toggleable__label.fitted {\n",
              "  color: var(--sklearn-color-text);\n",
              "  background-color: var(--sklearn-color-fitted-level-2);\n",
              "}\n",
              "\n",
              "/* Estimator label */\n",
              "\n",
              "#sk-container-id-1 div.sk-label label {\n",
              "  font-family: monospace;\n",
              "  font-weight: bold;\n",
              "  display: inline-block;\n",
              "  line-height: 1.2em;\n",
              "}\n",
              "\n",
              "#sk-container-id-1 div.sk-label-container {\n",
              "  text-align: center;\n",
              "}\n",
              "\n",
              "/* Estimator-specific */\n",
              "#sk-container-id-1 div.sk-estimator {\n",
              "  font-family: monospace;\n",
              "  border: 1px dotted var(--sklearn-color-border-box);\n",
              "  border-radius: 0.25em;\n",
              "  box-sizing: border-box;\n",
              "  margin-bottom: 0.5em;\n",
              "  /* unfitted */\n",
              "  background-color: var(--sklearn-color-unfitted-level-0);\n",
              "}\n",
              "\n",
              "#sk-container-id-1 div.sk-estimator.fitted {\n",
              "  /* fitted */\n",
              "  background-color: var(--sklearn-color-fitted-level-0);\n",
              "}\n",
              "\n",
              "/* on hover */\n",
              "#sk-container-id-1 div.sk-estimator:hover {\n",
              "  /* unfitted */\n",
              "  background-color: var(--sklearn-color-unfitted-level-2);\n",
              "}\n",
              "\n",
              "#sk-container-id-1 div.sk-estimator.fitted:hover {\n",
              "  /* fitted */\n",
              "  background-color: var(--sklearn-color-fitted-level-2);\n",
              "}\n",
              "\n",
              "/* Specification for estimator info (e.g. \"i\" and \"?\") */\n",
              "\n",
              "/* Common style for \"i\" and \"?\" */\n",
              "\n",
              ".sk-estimator-doc-link,\n",
              "a:link.sk-estimator-doc-link,\n",
              "a:visited.sk-estimator-doc-link {\n",
              "  float: right;\n",
              "  font-size: smaller;\n",
              "  line-height: 1em;\n",
              "  font-family: monospace;\n",
              "  background-color: var(--sklearn-color-background);\n",
              "  border-radius: 1em;\n",
              "  height: 1em;\n",
              "  width: 1em;\n",
              "  text-decoration: none !important;\n",
              "  margin-left: 0.5em;\n",
              "  text-align: center;\n",
              "  /* unfitted */\n",
              "  border: var(--sklearn-color-unfitted-level-1) 1pt solid;\n",
              "  color: var(--sklearn-color-unfitted-level-1);\n",
              "}\n",
              "\n",
              ".sk-estimator-doc-link.fitted,\n",
              "a:link.sk-estimator-doc-link.fitted,\n",
              "a:visited.sk-estimator-doc-link.fitted {\n",
              "  /* fitted */\n",
              "  border: var(--sklearn-color-fitted-level-1) 1pt solid;\n",
              "  color: var(--sklearn-color-fitted-level-1);\n",
              "}\n",
              "\n",
              "/* On hover */\n",
              "div.sk-estimator:hover .sk-estimator-doc-link:hover,\n",
              ".sk-estimator-doc-link:hover,\n",
              "div.sk-label-container:hover .sk-estimator-doc-link:hover,\n",
              ".sk-estimator-doc-link:hover {\n",
              "  /* unfitted */\n",
              "  background-color: var(--sklearn-color-unfitted-level-3);\n",
              "  color: var(--sklearn-color-background);\n",
              "  text-decoration: none;\n",
              "}\n",
              "\n",
              "div.sk-estimator.fitted:hover .sk-estimator-doc-link.fitted:hover,\n",
              ".sk-estimator-doc-link.fitted:hover,\n",
              "div.sk-label-container:hover .sk-estimator-doc-link.fitted:hover,\n",
              ".sk-estimator-doc-link.fitted:hover {\n",
              "  /* fitted */\n",
              "  background-color: var(--sklearn-color-fitted-level-3);\n",
              "  color: var(--sklearn-color-background);\n",
              "  text-decoration: none;\n",
              "}\n",
              "\n",
              "/* Span, style for the box shown on hovering the info icon */\n",
              ".sk-estimator-doc-link span {\n",
              "  display: none;\n",
              "  z-index: 9999;\n",
              "  position: relative;\n",
              "  font-weight: normal;\n",
              "  right: .2ex;\n",
              "  padding: .5ex;\n",
              "  margin: .5ex;\n",
              "  width: min-content;\n",
              "  min-width: 20ex;\n",
              "  max-width: 50ex;\n",
              "  color: var(--sklearn-color-text);\n",
              "  box-shadow: 2pt 2pt 4pt #999;\n",
              "  /* unfitted */\n",
              "  background: var(--sklearn-color-unfitted-level-0);\n",
              "  border: .5pt solid var(--sklearn-color-unfitted-level-3);\n",
              "}\n",
              "\n",
              ".sk-estimator-doc-link.fitted span {\n",
              "  /* fitted */\n",
              "  background: var(--sklearn-color-fitted-level-0);\n",
              "  border: var(--sklearn-color-fitted-level-3);\n",
              "}\n",
              "\n",
              ".sk-estimator-doc-link:hover span {\n",
              "  display: block;\n",
              "}\n",
              "\n",
              "/* \"?\"-specific style due to the `<a>` HTML tag */\n",
              "\n",
              "#sk-container-id-1 a.estimator_doc_link {\n",
              "  float: right;\n",
              "  font-size: 1rem;\n",
              "  line-height: 1em;\n",
              "  font-family: monospace;\n",
              "  background-color: var(--sklearn-color-background);\n",
              "  border-radius: 1rem;\n",
              "  height: 1rem;\n",
              "  width: 1rem;\n",
              "  text-decoration: none;\n",
              "  /* unfitted */\n",
              "  color: var(--sklearn-color-unfitted-level-1);\n",
              "  border: var(--sklearn-color-unfitted-level-1) 1pt solid;\n",
              "}\n",
              "\n",
              "#sk-container-id-1 a.estimator_doc_link.fitted {\n",
              "  /* fitted */\n",
              "  border: var(--sklearn-color-fitted-level-1) 1pt solid;\n",
              "  color: var(--sklearn-color-fitted-level-1);\n",
              "}\n",
              "\n",
              "/* On hover */\n",
              "#sk-container-id-1 a.estimator_doc_link:hover {\n",
              "  /* unfitted */\n",
              "  background-color: var(--sklearn-color-unfitted-level-3);\n",
              "  color: var(--sklearn-color-background);\n",
              "  text-decoration: none;\n",
              "}\n",
              "\n",
              "#sk-container-id-1 a.estimator_doc_link.fitted:hover {\n",
              "  /* fitted */\n",
              "  background-color: var(--sklearn-color-fitted-level-3);\n",
              "}\n",
              "</style><div id=\"sk-container-id-1\" class=\"sk-top-container\"><div class=\"sk-text-repr-fallback\"><pre>RandomizedSearchCV(cv=5,\n",
              "                   estimator=XGBClassifier(base_score=None, booster=None,\n",
              "                                           callbacks=None,\n",
              "                                           colsample_bylevel=None,\n",
              "                                           colsample_bynode=None,\n",
              "                                           colsample_bytree=None, device=None,\n",
              "                                           early_stopping_rounds=None,\n",
              "                                           enable_categorical=False,\n",
              "                                           eval_metric=&#x27;mlogloss&#x27;,\n",
              "                                           feature_types=None, gamma=None,\n",
              "                                           grow_policy=None,\n",
              "                                           importance_type=None,\n",
              "                                           interaction_constraints=None,\n",
              "                                           learnin...\n",
              "                                        &#x27;learning_rate&#x27;: &lt;scipy.stats._distn_infrastructure.rv_continuous_frozen object at 0x7fdfb544f5d0&gt;,\n",
              "                                        &#x27;max_depth&#x27;: &lt;scipy.stats._distn_infrastructure.rv_discrete_frozen object at 0x7fdfb53ff9d0&gt;,\n",
              "                                        &#x27;n_estimators&#x27;: &lt;scipy.stats._distn_infrastructure.rv_discrete_frozen object at 0x7fe0221983d0&gt;,\n",
              "                                        &#x27;subsample&#x27;: &lt;scipy.stats._distn_infrastructure.rv_continuous_frozen object at 0x7fdfb5124a10&gt;},\n",
              "                   random_state=42, scoring=&#x27;f1_macro&#x27;, verbose=1)</pre><b>In a Jupyter environment, please rerun this cell to show the HTML representation or trust the notebook. <br />On GitHub, the HTML representation is unable to render, please try loading this page with nbviewer.org.</b></div><div class=\"sk-container\" hidden><div class=\"sk-item sk-dashed-wrapped\"><div class=\"sk-label-container\"><div class=\"sk-label fitted sk-toggleable\"><input class=\"sk-toggleable__control sk-hidden--visually\" id=\"sk-estimator-id-1\" type=\"checkbox\" ><label for=\"sk-estimator-id-1\" class=\"sk-toggleable__label fitted sk-toggleable__label-arrow\"><div><div>RandomizedSearchCV</div></div><div><a class=\"sk-estimator-doc-link fitted\" rel=\"noreferrer\" target=\"_blank\" href=\"https://scikit-learn.org/1.6/modules/generated/sklearn.model_selection.RandomizedSearchCV.html\">?<span>Documentation for RandomizedSearchCV</span></a><span class=\"sk-estimator-doc-link fitted\">i<span>Fitted</span></span></div></label><div class=\"sk-toggleable__content fitted\"><pre>RandomizedSearchCV(cv=5,\n",
              "                   estimator=XGBClassifier(base_score=None, booster=None,\n",
              "                                           callbacks=None,\n",
              "                                           colsample_bylevel=None,\n",
              "                                           colsample_bynode=None,\n",
              "                                           colsample_bytree=None, device=None,\n",
              "                                           early_stopping_rounds=None,\n",
              "                                           enable_categorical=False,\n",
              "                                           eval_metric=&#x27;mlogloss&#x27;,\n",
              "                                           feature_types=None, gamma=None,\n",
              "                                           grow_policy=None,\n",
              "                                           importance_type=None,\n",
              "                                           interaction_constraints=None,\n",
              "                                           learnin...\n",
              "                                        &#x27;learning_rate&#x27;: &lt;scipy.stats._distn_infrastructure.rv_continuous_frozen object at 0x7fdfb544f5d0&gt;,\n",
              "                                        &#x27;max_depth&#x27;: &lt;scipy.stats._distn_infrastructure.rv_discrete_frozen object at 0x7fdfb53ff9d0&gt;,\n",
              "                                        &#x27;n_estimators&#x27;: &lt;scipy.stats._distn_infrastructure.rv_discrete_frozen object at 0x7fe0221983d0&gt;,\n",
              "                                        &#x27;subsample&#x27;: &lt;scipy.stats._distn_infrastructure.rv_continuous_frozen object at 0x7fdfb5124a10&gt;},\n",
              "                   random_state=42, scoring=&#x27;f1_macro&#x27;, verbose=1)</pre></div> </div></div><div class=\"sk-parallel\"><div class=\"sk-parallel-item\"><div class=\"sk-item\"><div class=\"sk-label-container\"><div class=\"sk-label fitted sk-toggleable\"><input class=\"sk-toggleable__control sk-hidden--visually\" id=\"sk-estimator-id-2\" type=\"checkbox\" ><label for=\"sk-estimator-id-2\" class=\"sk-toggleable__label fitted sk-toggleable__label-arrow\"><div><div>best_estimator_: XGBClassifier</div></div></label><div class=\"sk-toggleable__content fitted\"><pre>XGBClassifier(base_score=None, booster=None, callbacks=None,\n",
              "              colsample_bylevel=None, colsample_bynode=None,\n",
              "              colsample_bytree=np.float64(0.9395655297064336), device=None,\n",
              "              early_stopping_rounds=None, enable_categorical=False,\n",
              "              eval_metric=&#x27;mlogloss&#x27;, feature_types=None, gamma=None,\n",
              "              grow_policy=None, importance_type=None,\n",
              "              interaction_constraints=None,\n",
              "              learning_rate=np.float64(0.22651885634946198), max_bin=None,\n",
              "              max_cat_threshold=None, max_cat_to_onehot=None,\n",
              "              max_delta_step=None, max_depth=9, max_leaves=None,\n",
              "              min_child_weight=None, missing=nan, monotone_constraints=None,\n",
              "              multi_strategy=None, n_estimators=241, n_jobs=None, num_class=6,\n",
              "              num_parallel_tree=None, ...)</pre></div> </div></div><div class=\"sk-serial\"><div class=\"sk-item\"><div class=\"sk-estimator fitted sk-toggleable\"><input class=\"sk-toggleable__control sk-hidden--visually\" id=\"sk-estimator-id-3\" type=\"checkbox\" ><label for=\"sk-estimator-id-3\" class=\"sk-toggleable__label fitted sk-toggleable__label-arrow\"><div><div>XGBClassifier</div></div></label><div class=\"sk-toggleable__content fitted\"><pre>XGBClassifier(base_score=None, booster=None, callbacks=None,\n",
              "              colsample_bylevel=None, colsample_bynode=None,\n",
              "              colsample_bytree=np.float64(0.9395655297064336), device=None,\n",
              "              early_stopping_rounds=None, enable_categorical=False,\n",
              "              eval_metric=&#x27;mlogloss&#x27;, feature_types=None, gamma=None,\n",
              "              grow_policy=None, importance_type=None,\n",
              "              interaction_constraints=None,\n",
              "              learning_rate=np.float64(0.22651885634946198), max_bin=None,\n",
              "              max_cat_threshold=None, max_cat_to_onehot=None,\n",
              "              max_delta_step=None, max_depth=9, max_leaves=None,\n",
              "              min_child_weight=None, missing=nan, monotone_constraints=None,\n",
              "              multi_strategy=None, n_estimators=241, n_jobs=None, num_class=6,\n",
              "              num_parallel_tree=None, ...)</pre></div> </div></div></div></div></div></div></div></div></div>"
            ]
          },
          "metadata": {},
          "execution_count": 9
        }
      ],
      "source": [
        "# 9. Hyperparameter tuning dengan RandomizedSearchCV\n",
        "xgb = XGBClassifier(objective='multi:softmax', num_class=len(encoder.classes_),\n",
        "                    random_state=42, use_label_encoder=False, eval_metric='mlogloss')\n",
        "\n",
        "param_dist = {\n",
        "    'n_estimators': randint(100, 300),\n",
        "    'max_depth': randint(3, 10),\n",
        "    'learning_rate': uniform(0.01, 0.3),\n",
        "    'subsample': uniform(0.6, 0.4),\n",
        "    'colsample_bytree': uniform(0.6, 0.4)\n",
        "}\n",
        "\n",
        "random_search = RandomizedSearchCV(xgb, param_distributions=param_dist,\n",
        "                                   n_iter=50, scoring='f1_macro', cv=5,\n",
        "                                   random_state=42, n_jobs=-1, verbose=1)\n",
        "\n",
        "random_search.fit(X_train_selected, y_train)"
      ]
    },
    {
      "cell_type": "markdown",
      "source": [
        "Untuk mendapatkan performa terbaik dari model XGBoost, kita lakukan pencarian kombinasi hyperparameter terbaik menggunakan RandomizedSearchCV.\n",
        "\n",
        "Metode ini mencoba 50 kombinasi secara acak dari parameter-parameter yang didefinisikan. Metode ini lebih efisien dari GridSearch untuk ruang parameter yang besar."
      ],
      "metadata": {
        "id": "vV55F31CuyxL"
      }
    },
    {
      "cell_type": "code",
      "source": [
        "# 10. Visualisasi dan evaluasi Confusion matrix\n",
        "# Membuat confusion matrix\n",
        "cm = confusion_matrix(y_val, y_pred)\n",
        "labels = encoder.classes_\n",
        "\n",
        "# Menampilkan confusion matrix\n",
        "disp = ConfusionMatrixDisplay(confusion_matrix=cm, display_labels=labels)\n",
        "plt.figure(figsize=(8,6))\n",
        "disp.plot(cmap='Blues', values_format='d')\n",
        "plt.title(\"Confusion Matrix (XGBoost + Feature Selection)\")\n",
        "plt.xlabel(\"Predicted Label\")\n",
        "plt.ylabel(\"True Label\")\n",
        "plt.grid(False)\n",
        "plt.show()\n",
        "\n",
        "decoded_y_val = encoder.inverse_transform(y_val)\n",
        "decoded_y_pred = encoder.inverse_transform(y_pred)\n",
        "cm_labeled = confusion_matrix(decoded_y_val, decoded_y_pred)\n",
        "\n",
        "# Buat DataFrame agar lebih rapi\n",
        "cm_df = pd.DataFrame(cm_labeled,\n",
        "                     index=[f\"Actual {label}\" for label in encoder.classes_],\n",
        "                     columns=[f\"Predicted {label}\" for label in encoder.classes_])\n",
        "print(cm_df)"
      ],
      "metadata": {
        "colab": {
          "base_uri": "https://localhost:8080/",
          "height": 750
        },
        "id": "yQjGvf-s0RUt",
        "outputId": "8ff6b40a-94c0-4f27-bb94-2e79caa84d5d"
      },
      "execution_count": 15,
      "outputs": [
        {
          "output_type": "display_data",
          "data": {
            "text/plain": [
              "<Figure size 800x600 with 0 Axes>"
            ]
          },
          "metadata": {}
        },
        {
          "output_type": "display_data",
          "data": {
            "text/plain": [
              "<Figure size 640x480 with 2 Axes>"
            ],
            "image/png": "[encoded data removed]"
          },
          "metadata": {}
        },
        {
          "output_type": "stream",
          "name": "stdout",
          "text": [
            "          Predicted 3  Predicted 4  Predicted 5  Predicted 6  Predicted 7  \\\n",
            "Actual 3            0            0            0            1            0   \n",
            "Actual 4            0            0            3            2            0   \n",
            "Actual 5            1            1           55           16            0   \n",
            "Actual 6            0            1           18           44            5   \n",
            "Actual 7            0            0            1           11           10   \n",
            "Actual 8            0            0            0            0            2   \n",
            "\n",
            "          Predicted 8  \n",
            "Actual 3            0  \n",
            "Actual 4            0  \n",
            "Actual 5            0  \n",
            "Actual 6            0  \n",
            "Actual 7            0  \n",
            "Actual 8            1  \n"
          ]
        }
      ]
    },
    {
      "cell_type": "markdown",
      "source": [
        "Langkah ini bertujuan untuk mengevaluasi kinerja model XGBoost melalui confusion matrix, yaitu tabel yang membandingkan antara label sebenarnya (actual) dengan hasil prediksi model (predicted). Pertama, model membuat confusion matrix dari data validasi (y_val dan y_pred) dalam bentuk numerik. Karena label target sebelumnya telah dienkode dengan LabelEncoder, label integer ini kemudian dikembalikan ke label asli (misalnya 3, 4, 5, dst) agar lebih mudah dipahami.\n",
        "\n",
        "Confusion matrix divisualisasikan dalam bentuk heatmap menggunakan ConfusionMatrixDisplay, dengan pewarnaan biru untuk memperjelas intensitas jumlah prediksi. Visualisasi ini menunjukkan berapa kali model memprediksi dengan benar (terlihat pada diagonal) dan berapa kali model melakukan kesalahan prediksi (terlihat pada bagian di luar diagonal).\n",
        "\n",
        "Selain visualisasi, confusion matrix juga ditampilkan dalam format tabel DataFrame. Tabel ini menunjukkan bahwa model mampu memprediksi kelas 5 dengan sangat baik (55 prediksi benar), namun cukup sering melakukan kesalahan pada kelas yang berdekatan seperti kelas 5 diprediksi sebagai 6 (16 kali), dan sebaliknya kelas 6 diprediksi sebagai 5 (18 kali). Sementara itu, kelas dengan jumlah data lebih sedikit seperti kelas 3, 4, dan 8 memiliki akurasi yang sangat rendah, bahkan ada yang tidak terprediksi sama sekali dengan benar. Hal ini menunjukkan bahwa model bekerja cukup baik pada kelas mayoritas, namun masih kesulitan membedakan kelas minoritas atau yang jumlahnya terbatas."
      ],
      "metadata": {
        "id": "mARg5mcU0xKW"
      }
    },
    {
      "cell_type": "code",
      "source": [
        "# 11. Evaluasi model terbaik\n",
        "print(\"\\nBest Parameters from RandomizedSearchCV:\", random_search.best_params_)\n",
        "\n",
        "best_xgb_model = random_search.best_estimator_\n",
        "y_pred = best_xgb_model.predict(X_val_selected)\n",
        "\n",
        "print(\"\\nClassification Report (XGBoost + Feature Selection):\")\n",
        "print(classification_report(y_val, y_pred))"
      ],
      "metadata": {
        "colab": {
          "base_uri": "https://localhost:8080/",
          "height": 0
        },
        "id": "7dHatyOasU0e",
        "outputId": "51a409d3-2a5b-45e7-9181-8a6ba084f560"
      },
      "execution_count": 10,
      "outputs": [
        {
          "output_type": "stream",
          "name": "stdout",
          "text": [
            "\n",
            "Best Parameters from RandomizedSearchCV: {'colsample_bytree': np.float64(0.9395655297064336), 'learning_rate': np.float64(0.22651885634946198), 'max_depth': 9, 'n_estimators': 241, 'subsample': np.float64(0.7975182385457563)}\n",
            "\n",
            "Classification Report (XGBoost + Feature Selection):\n",
            "              precision    recall  f1-score   support\n",
            "\n",
            "           0       0.00      0.00      0.00         1\n",
            "           1       0.00      0.00      0.00         5\n",
            "           2       0.71      0.75      0.73        73\n",
            "           3       0.59      0.65      0.62        68\n",
            "           4       0.59      0.45      0.51        22\n",
            "           5       1.00      0.33      0.50         3\n",
            "\n",
            "    accuracy                           0.64       172\n",
            "   macro avg       0.48      0.36      0.39       172\n",
            "weighted avg       0.63      0.64      0.63       172\n",
            "\n"
          ]
        }
      ]
    },
    {
      "cell_type": "markdown",
      "source": [
        "Setelah tuning selesai, kita ambil model terbaik dan uji pada data validasi. Kita menilai performa model berdasarkan classification report (precision, recall, f1-score). Hasil model ini menunjukkan akurasi sekitar 64%, yang bisa dianggap cukup baik tergantung kompleksitas data dan distribusi kelas.\n",
        "\n",
        "Interpretasi:\n",
        "\n",
        "*   Model cenderung bekerja baik pada kelas mayoritas (kelas 2 dan 3).\n",
        "*   Kelas minoritas (0, 1, 5) memiliki skor yang rendah. Ini bisa disebabkan ketidakseimbangan data.\n",
        "*   Perlu pertimbangan seperti SMOTE atau class_weight jika ingin meningkatkan skor pada kelas kecil."
      ],
      "metadata": {
        "id": "3bwv2zT0uz_T"
      }
    },
    {
      "cell_type": "code",
      "source": [
        "# 12. Prediksi pada data testing\n",
        "xgb_test_pred = best_xgb_model.predict(X_test_selected)\n",
        "xgb_test_pred = encoder.inverse_transform(xgb_test_pred)"
      ],
      "metadata": {
        "id": "v2AzXrNCsUwW"
      },
      "execution_count": 11,
      "outputs": []
    },
    {
      "cell_type": "markdown",
      "source": [
        "Prediksi dilakukan pada data uji, dan label dikembalikan ke bentuk aslinya (skala 0–10) dengan inverse_transform.\n",
        "\n",
        "Model digunakan untuk memprediksi kualitas anggur di data testing. Karena sebelumnya kita encoding label dengan LabelEncoder, kita kembalikan hasil prediksi ke label aslinya (angka kualitas yang sebenarnya)."
      ],
      "metadata": {
        "id": "XmbShbWmu0hb"
      }
    },
    {
      "cell_type": "code",
      "source": [
        "# 13. Simpan hasil prediksi\n",
        "xgb_result = pd.DataFrame({\n",
        "    \"id\": test_id,\n",
        "    \"quality\": xgb_test_pred\n",
        "})\n",
        "\n",
        "xgb_result.to_csv(\"hasil_prediksi_XGBOOST_FS.csv\", index=False)\n",
        "print(\"\\nPrediksi berhasil disimpan ke hasil_prediksi_XGBOOST_FS.csv\")"
      ],
      "metadata": {
        "colab": {
          "base_uri": "https://localhost:8080/",
          "height": 0
        },
        "id": "v7Iz_R_XsZh6",
        "outputId": "5295b09d-cf4b-4910-e2e0-83326add30cd"
      },
      "execution_count": 12,
      "outputs": [
        {
          "output_type": "stream",
          "name": "stdout",
          "text": [
            "\n",
            "Prediksi berhasil disimpan ke hasil_prediksi_XGBOOST_FS.csv\n"
          ]
        }
      ]
    },
    {
      "cell_type": "markdown",
      "source": [
        "Hasil akhir disimpan ke dalam file CSV dengan format Id dan Quality"
      ],
      "metadata": {
        "id": "zxNBYOEiu1jv"
      }
    }
  ]
}